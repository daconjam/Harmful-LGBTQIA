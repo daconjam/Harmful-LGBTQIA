{
 "cells": [
  {
   "cell_type": "markdown",
   "metadata": {},
   "source": [
    "# Predictive Modeling - Multi-label Classification\n",
    "\n",
    "<i>Author: Jamell Dacon</i>"
   ]
  },
  {
   "cell_type": "code",
   "execution_count": 1,
   "metadata": {},
   "outputs": [],
   "source": [
    "# Load in models and packages necessary for datasets\n",
    "# Importing individual libraries make it easy for us to use them without having to call the parent libraries\n",
    "import math\n",
    "import numpy as np\n",
    "import pandas as pd\n",
    "\n",
    "from sklearn.pipeline import Pipeline\n",
    "from sklearn.ensemble import RandomForestClassifier, GradientBoostingClassifier\n",
    "from sklearn.metrics import classification_report, accuracy_score\n",
    "from sklearn.linear_model import LogisticRegression \n",
    "from sklearn.svm import LinearSVC\n",
    "from sklearn.multiclass import OneVsRestClassifier\n",
    "from sklearn.feature_extraction.text import TfidfVectorizer\n",
    "from sklearn.preprocessing import MultiLabelBinarizer\n",
    "\n",
    "# Visualization libraries\n",
    "import seaborn as sns \n",
    "import matplotlib.pyplot as plt\n",
    "%matplotlib inline\n",
    "\n",
    "from nltk.corpus import stopwords\n",
    "stop_words = set(stopwords.words('english'))\n",
    "\n",
    "# Managing Warnings i.e. Deprecation warnings\n",
    "import warnings\n",
    "warnings.filterwarnings('ignore')"
   ]
  },
  {
   "cell_type": "markdown",
   "metadata": {},
   "source": [
    "## Multilabel\n",
    "\n",
    "### Training Set\n"
   ]
  },
  {
   "cell_type": "code",
   "execution_count": 2,
   "metadata": {},
   "outputs": [
    {
     "name": "stdout",
     "output_type": "stream",
     "text": [
      "Train shape: (7944, 2)\n"
     ]
    },
    {
     "data": {
      "text/html": [
       "<div>\n",
       "<style scoped>\n",
       "    .dataframe tbody tr th:only-of-type {\n",
       "        vertical-align: middle;\n",
       "    }\n",
       "\n",
       "    .dataframe tbody tr th {\n",
       "        vertical-align: top;\n",
       "    }\n",
       "\n",
       "    .dataframe thead th {\n",
       "        text-align: right;\n",
       "    }\n",
       "</style>\n",
       "<table border=\"1\" class=\"dataframe\">\n",
       "  <thead>\n",
       "    <tr style=\"text-align: right;\">\n",
       "      <th></th>\n",
       "      <th>text</th>\n",
       "      <th>label</th>\n",
       "      <th>toxic</th>\n",
       "      <th>severe_toxic</th>\n",
       "      <th>obscene</th>\n",
       "      <th>threat</th>\n",
       "      <th>insult</th>\n",
       "      <th>identity_attack</th>\n",
       "    </tr>\n",
       "  </thead>\n",
       "  <tbody>\n",
       "    <tr>\n",
       "      <td>0</td>\n",
       "      <td>roxane gay is so goddamned weird on social media.</td>\n",
       "      <td>[1.0, 0.0, 1.0, 0.0, 1.0, 1.0]</td>\n",
       "      <td>1.0</td>\n",
       "      <td>0.0</td>\n",
       "      <td>1.0</td>\n",
       "      <td>0.0</td>\n",
       "      <td>1.0</td>\n",
       "      <td>1.0</td>\n",
       "    </tr>\n",
       "    <tr>\n",
       "      <td>1</td>\n",
       "      <td>not all gays are pedos you stupid faggot milo ...</td>\n",
       "      <td>[1.0, 0.0, 1.0, 0.0, 1.0, 1.0]</td>\n",
       "      <td>1.0</td>\n",
       "      <td>0.0</td>\n",
       "      <td>1.0</td>\n",
       "      <td>0.0</td>\n",
       "      <td>1.0</td>\n",
       "      <td>1.0</td>\n",
       "    </tr>\n",
       "    <tr>\n",
       "      <td>2</td>\n",
       "      <td>that doesnt though because being gay is shitty...</td>\n",
       "      <td>[1.0, 0.0, 1.0, 0.0, 1.0, 1.0]</td>\n",
       "      <td>1.0</td>\n",
       "      <td>0.0</td>\n",
       "      <td>1.0</td>\n",
       "      <td>0.0</td>\n",
       "      <td>1.0</td>\n",
       "      <td>1.0</td>\n",
       "    </tr>\n",
       "    <tr>\n",
       "      <td>3</td>\n",
       "      <td>they were confused by a game did a backflip an...</td>\n",
       "      <td>[0.0, 0.0, 0.0, 0.0, 0.0, 0.0]</td>\n",
       "      <td>0.0</td>\n",
       "      <td>0.0</td>\n",
       "      <td>0.0</td>\n",
       "      <td>0.0</td>\n",
       "      <td>0.0</td>\n",
       "      <td>0.0</td>\n",
       "    </tr>\n",
       "    <tr>\n",
       "      <td>4</td>\n",
       "      <td>fag homosexuals are the worst kind of homosexual.</td>\n",
       "      <td>[1.0, 0.0, 1.0, 0.0, 1.0, 1.0]</td>\n",
       "      <td>1.0</td>\n",
       "      <td>0.0</td>\n",
       "      <td>1.0</td>\n",
       "      <td>0.0</td>\n",
       "      <td>1.0</td>\n",
       "      <td>1.0</td>\n",
       "    </tr>\n",
       "  </tbody>\n",
       "</table>\n",
       "</div>"
      ],
      "text/plain": [
       "                                                text  \\\n",
       "0  roxane gay is so goddamned weird on social media.   \n",
       "1  not all gays are pedos you stupid faggot milo ...   \n",
       "2  that doesnt though because being gay is shitty...   \n",
       "3  they were confused by a game did a backflip an...   \n",
       "4  fag homosexuals are the worst kind of homosexual.   \n",
       "\n",
       "                            label  toxic  severe_toxic  obscene  threat  \\\n",
       "0  [1.0, 0.0, 1.0, 0.0, 1.0, 1.0]    1.0           0.0      1.0     0.0   \n",
       "1  [1.0, 0.0, 1.0, 0.0, 1.0, 1.0]    1.0           0.0      1.0     0.0   \n",
       "2  [1.0, 0.0, 1.0, 0.0, 1.0, 1.0]    1.0           0.0      1.0     0.0   \n",
       "3  [0.0, 0.0, 0.0, 0.0, 0.0, 0.0]    0.0           0.0      0.0     0.0   \n",
       "4  [1.0, 0.0, 1.0, 0.0, 1.0, 1.0]    1.0           0.0      1.0     0.0   \n",
       "\n",
       "   insult  identity_attack  \n",
       "0     1.0              1.0  \n",
       "1     1.0              1.0  \n",
       "2     1.0              1.0  \n",
       "3     0.0              0.0  \n",
       "4     1.0              1.0  "
      ]
     },
     "execution_count": 2,
     "metadata": {},
     "output_type": "execute_result"
    }
   ],
   "source": [
    "# Load in data\n",
    "train = pd.read_json(\"data/train.json\")\n",
    "\n",
    "# Display columns independently \n",
    "train_labels = pd.DataFrame(train['label'].tolist())\n",
    "categories = ['toxic', 'severe_toxic', 'obscene', 'threat', 'insult', 'identity_attack']\n",
    "train_labels.columns = categories\n",
    "\n",
    "train_df = pd.concat([train, train_labels], axis = 1)\n",
    "#train_df = train_df.drop(['label'], axis=1)\n",
    "\n",
    "#Display full df\n",
    "print(\"Train shape:\", train.shape)\n",
    "train_df.head()"
   ]
  },
  {
   "cell_type": "code",
   "execution_count": 3,
   "metadata": {},
   "outputs": [
    {
     "data": {
      "text/plain": [
       "Text(0.5, 0, 'Labels')"
      ]
     },
     "execution_count": 3,
     "metadata": {},
     "output_type": "execute_result"
    },
    {
     "data": {
      "image/png": "[encoded data removed]",
      "text/plain": [
       "<Figure size 576x360 with 1 Axes>"
      ]
     },
     "metadata": {
      "needs_background": "light"
     },
     "output_type": "display_data"
    }
   ],
   "source": [
    "rowsums = train_df.iloc[:,3:].sum(axis=1)\n",
    "x = rowsums.value_counts()\n",
    "\n",
    "#plot\n",
    "plt.figure(figsize=(8,5))\n",
    "ax = sns.barplot(categories, x.values)\n",
    "plt.title(\"Multiple categories per comment\")\n",
    "plt.ylabel('Counts', fontsize=12)\n",
    "plt.xlabel('Labels', fontsize=12)"
   ]
  },
  {
   "cell_type": "code",
   "execution_count": 18,
   "metadata": {},
   "outputs": [
    {
     "data": {
      "text/plain": [
       "0.0    4345\n",
       "1.0    3599\n",
       "Name: identity_attack, dtype: int64"
      ]
     },
     "execution_count": 18,
     "metadata": {},
     "output_type": "execute_result"
    }
   ],
   "source": [
    "train_df['identity_attack'].value_counts()"
   ]
  },
  {
   "cell_type": "markdown",
   "metadata": {},
   "source": [
    "### Testing Set"
   ]
  },
  {
   "cell_type": "code",
   "execution_count": 4,
   "metadata": {},
   "outputs": [
    {
     "name": "stdout",
     "output_type": "stream",
     "text": [
      "Test shape: (1986, 2)\n"
     ]
    },
    {
     "data": {
      "text/html": [
       "<div>\n",
       "<style scoped>\n",
       "    .dataframe tbody tr th:only-of-type {\n",
       "        vertical-align: middle;\n",
       "    }\n",
       "\n",
       "    .dataframe tbody tr th {\n",
       "        vertical-align: top;\n",
       "    }\n",
       "\n",
       "    .dataframe thead th {\n",
       "        text-align: right;\n",
       "    }\n",
       "</style>\n",
       "<table border=\"1\" class=\"dataframe\">\n",
       "  <thead>\n",
       "    <tr style=\"text-align: right;\">\n",
       "      <th></th>\n",
       "      <th>text</th>\n",
       "      <th>label</th>\n",
       "      <th>toxic</th>\n",
       "      <th>severe_toxic</th>\n",
       "      <th>obscene</th>\n",
       "      <th>threat</th>\n",
       "      <th>insult</th>\n",
       "      <th>identity_attack</th>\n",
       "    </tr>\n",
       "  </thead>\n",
       "  <tbody>\n",
       "    <tr>\n",
       "      <td>0</td>\n",
       "      <td>but im not gay gay people are sin</td>\n",
       "      <td>[1.0, 0.0, 0.0, 0.0, 0.0, 0.0]</td>\n",
       "      <td>1.0</td>\n",
       "      <td>0.0</td>\n",
       "      <td>0.0</td>\n",
       "      <td>0.0</td>\n",
       "      <td>0.0</td>\n",
       "      <td>0.0</td>\n",
       "    </tr>\n",
       "    <tr>\n",
       "      <td>1</td>\n",
       "      <td>that ones always a classic gotta love me some ...</td>\n",
       "      <td>[1.0, 0.0, 0.0, 0.0, 1.0, 1.0]</td>\n",
       "      <td>1.0</td>\n",
       "      <td>0.0</td>\n",
       "      <td>0.0</td>\n",
       "      <td>0.0</td>\n",
       "      <td>1.0</td>\n",
       "      <td>1.0</td>\n",
       "    </tr>\n",
       "    <tr>\n",
       "      <td>2</td>\n",
       "      <td>vile evil bitch gay is a disease that needs to...</td>\n",
       "      <td>[1.0, 1.0, 1.0, 0.0, 1.0, 1.0]</td>\n",
       "      <td>1.0</td>\n",
       "      <td>1.0</td>\n",
       "      <td>1.0</td>\n",
       "      <td>0.0</td>\n",
       "      <td>1.0</td>\n",
       "      <td>1.0</td>\n",
       "    </tr>\n",
       "    <tr>\n",
       "      <td>3</td>\n",
       "      <td>all homosexuals are pedophiles upright</td>\n",
       "      <td>[1.0, 0.0, 0.0, 0.0, 1.0, 1.0]</td>\n",
       "      <td>1.0</td>\n",
       "      <td>0.0</td>\n",
       "      <td>0.0</td>\n",
       "      <td>0.0</td>\n",
       "      <td>1.0</td>\n",
       "      <td>1.0</td>\n",
       "    </tr>\n",
       "    <tr>\n",
       "      <td>4</td>\n",
       "      <td>i can confirm lesbians are not weird and disgu...</td>\n",
       "      <td>[1.0, 0.0, 0.0, 0.0, 0.0, 0.0]</td>\n",
       "      <td>1.0</td>\n",
       "      <td>0.0</td>\n",
       "      <td>0.0</td>\n",
       "      <td>0.0</td>\n",
       "      <td>0.0</td>\n",
       "      <td>0.0</td>\n",
       "    </tr>\n",
       "  </tbody>\n",
       "</table>\n",
       "</div>"
      ],
      "text/plain": [
       "                                                text  \\\n",
       "0                  but im not gay gay people are sin   \n",
       "1  that ones always a classic gotta love me some ...   \n",
       "2  vile evil bitch gay is a disease that needs to...   \n",
       "3             all homosexuals are pedophiles upright   \n",
       "4  i can confirm lesbians are not weird and disgu...   \n",
       "\n",
       "                            label  toxic  severe_toxic  obscene  threat  \\\n",
       "0  [1.0, 0.0, 0.0, 0.0, 0.0, 0.0]    1.0           0.0      0.0     0.0   \n",
       "1  [1.0, 0.0, 0.0, 0.0, 1.0, 1.0]    1.0           0.0      0.0     0.0   \n",
       "2  [1.0, 1.0, 1.0, 0.0, 1.0, 1.0]    1.0           1.0      1.0     0.0   \n",
       "3  [1.0, 0.0, 0.0, 0.0, 1.0, 1.0]    1.0           0.0      0.0     0.0   \n",
       "4  [1.0, 0.0, 0.0, 0.0, 0.0, 0.0]    1.0           0.0      0.0     0.0   \n",
       "\n",
       "   insult  identity_attack  \n",
       "0     0.0              0.0  \n",
       "1     1.0              1.0  \n",
       "2     1.0              1.0  \n",
       "3     1.0              1.0  \n",
       "4     0.0              0.0  "
      ]
     },
     "execution_count": 4,
     "metadata": {},
     "output_type": "execute_result"
    }
   ],
   "source": [
    "# Load in data \n",
    "test = pd.read_json(\"data/test.json\")\n",
    "\n",
    "# Display columns independently \n",
    "test_labels = pd.DataFrame(test['label'].tolist())\n",
    "categories = ['toxic', 'severe_toxic', 'obscene', 'threat', 'insult', 'identity_attack']\n",
    "test_labels.columns = categories\n",
    "\n",
    "test_df = pd.concat([test, test_labels], axis = 1)\n",
    "#test_df = test_df.drop(['label'], axis=1)\n",
    "\n",
    "#Display full df\n",
    "print(\"Test shape:\", test.shape)\n",
    "test_df.head()"
   ]
  },
  {
   "cell_type": "code",
   "execution_count": 5,
   "metadata": {},
   "outputs": [
    {
     "data": {
      "text/plain": [
       "Text(0.5, 0, 'Labels')"
      ]
     },
     "execution_count": 5,
     "metadata": {},
     "output_type": "execute_result"
    },
    {
     "data": {
      "image/png": "[encoded data removed]",
      "text/plain": [
       "<Figure size 576x360 with 1 Axes>"
      ]
     },
     "metadata": {
      "needs_background": "light"
     },
     "output_type": "display_data"
    }
   ],
   "source": [
    "rowsums = test_df.iloc[:,3:].sum(axis=1)\n",
    "x = rowsums.value_counts()\n",
    "\n",
    "#plot\n",
    "plt.figure(figsize=(8,5))\n",
    "ax = sns.barplot(categories, x.values)\n",
    "plt.title(\"Multiple categories per comment\")\n",
    "plt.ylabel('Counts', fontsize=12)\n",
    "plt.xlabel('Labels', fontsize=12)"
   ]
  },
  {
   "cell_type": "markdown",
   "metadata": {},
   "source": [
    "### Train/ Test Splits"
   ]
  },
  {
   "cell_type": "code",
   "execution_count": 6,
   "metadata": {},
   "outputs": [
    {
     "data": {
      "text/plain": [
       "((7944,), (1986,))"
      ]
     },
     "execution_count": 6,
     "metadata": {},
     "output_type": "execute_result"
    }
   ],
   "source": [
    "# Training set \n",
    "X_train = train_df.text\n",
    "X_test = test_df.text\n",
    "\n",
    "X_train.shape, X_test.shape"
   ]
  },
  {
   "cell_type": "markdown",
   "metadata": {},
   "source": [
    "### Logistic Regression model"
   ]
  },
  {
   "cell_type": "code",
   "execution_count": 7,
   "metadata": {},
   "outputs": [
    {
     "name": "stdout",
     "output_type": "stream",
     "text": [
      "Processing toxic ...\n",
      "Test accuracy is 0.8091641490433031\n",
      "              precision    recall  f1-score   support\n",
      "\n",
      "         0.0       0.73      0.37      0.49       496\n",
      "         1.0       0.82      0.96      0.88      1490\n",
      "\n",
      "    accuracy                           0.81      1986\n",
      "   macro avg       0.78      0.66      0.69      1986\n",
      "weighted avg       0.80      0.81      0.79      1986\n",
      "\n",
      "Processing severe_toxic ...\n",
      "Test accuracy is 0.9848942598187311\n",
      "              precision    recall  f1-score   support\n",
      "\n",
      "         0.0       0.99      1.00      0.99      1949\n",
      "         1.0       0.89      0.22      0.35        37\n",
      "\n",
      "    accuracy                           0.98      1986\n",
      "   macro avg       0.94      0.61      0.67      1986\n",
      "weighted avg       0.98      0.98      0.98      1986\n",
      "\n",
      "Processing obscene ...\n",
      "Test accuracy is 0.9300100704934542\n",
      "              precision    recall  f1-score   support\n",
      "\n",
      "         0.0       0.93      1.00      0.96      1691\n",
      "         1.0       0.97      0.55      0.70       295\n",
      "\n",
      "    accuracy                           0.93      1986\n",
      "   macro avg       0.95      0.77      0.83      1986\n",
      "weighted avg       0.93      0.93      0.92      1986\n",
      "\n",
      "Processing threat ...\n",
      "Test accuracy is 0.9969788519637462\n",
      "              precision    recall  f1-score   support\n",
      "\n",
      "         0.0       1.00      1.00      1.00      1980\n",
      "         1.0       0.00      0.00      0.00         6\n",
      "\n",
      "    accuracy                           1.00      1986\n",
      "   macro avg       0.50      0.50      0.50      1986\n",
      "weighted avg       0.99      1.00      1.00      1986\n",
      "\n",
      "Processing insult ...\n",
      "Test accuracy is 0.878147029204431\n",
      "              precision    recall  f1-score   support\n",
      "\n",
      "         0.0       0.87      0.99      0.93      1546\n",
      "         1.0       0.93      0.49      0.64       440\n",
      "\n",
      "    accuracy                           0.88      1986\n",
      "   macro avg       0.90      0.74      0.78      1986\n",
      "weighted avg       0.88      0.88      0.86      1986\n",
      "\n",
      "Processing identity_attack ...\n",
      "Test accuracy is 0.7935548841893253\n",
      "              precision    recall  f1-score   support\n",
      "\n",
      "         0.0       0.79      0.85      0.82      1091\n",
      "         1.0       0.80      0.73      0.76       895\n",
      "\n",
      "    accuracy                           0.79      1986\n",
      "   macro avg       0.79      0.79      0.79      1986\n",
      "weighted avg       0.79      0.79      0.79      1986\n",
      "\n"
     ]
    }
   ],
   "source": [
    "LGR_pipeline = Pipeline([\n",
    "                ('tfidf', TfidfVectorizer(stop_words=stop_words)),\n",
    "                ('clf', OneVsRestClassifier(LogisticRegression(solver='sag'), n_jobs=1)),\n",
    "            ])\n",
    "for category in categories:\n",
    "    print('Processing {} ...'.format(category))\n",
    "    LGR_pipeline.fit(X_train, train_df[category])\n",
    "    \n",
    "    # compute the testing accuracy\n",
    "    lgr_preds = LGR_pipeline.predict(X_test)\n",
    "    print('Test accuracy is {}'.format(accuracy_score(test_df[category], lgr_preds)))\n",
    "    \n",
    "    # Print the classification report of the rf model\n",
    "    print(classification_report(y_true = test_df[category], y_pred = lgr_preds))\n"
   ]
  },
  {
   "cell_type": "markdown",
   "metadata": {},
   "source": [
    "### Support Vector Machine"
   ]
  },
  {
   "cell_type": "code",
   "execution_count": 8,
   "metadata": {},
   "outputs": [
    {
     "name": "stdout",
     "output_type": "stream",
     "text": [
      "Processing toxic ...\n",
      "Test accuracy is 0.8167170191339376\n",
      "              precision    recall  f1-score   support\n",
      "\n",
      "         0.0       0.40      0.95      0.56       496\n",
      "         1.0       0.97      0.53      0.68      1490\n",
      "\n",
      "    accuracy                           0.63      1986\n",
      "   macro avg       0.68      0.74      0.62      1986\n",
      "weighted avg       0.83      0.63      0.65      1986\n",
      "\n",
      "Processing severe_toxic ...\n",
      "Test accuracy is 0.9879154078549849\n",
      "              precision    recall  f1-score   support\n",
      "\n",
      "         0.0       1.00      0.60      0.75      1949\n",
      "         1.0       0.04      0.95      0.08        37\n",
      "\n",
      "    accuracy                           0.61      1986\n",
      "   macro avg       0.52      0.77      0.42      1986\n",
      "weighted avg       0.98      0.61      0.74      1986\n",
      "\n",
      "Processing obscene ...\n",
      "Test accuracy is 0.959718026183283\n",
      "              precision    recall  f1-score   support\n",
      "\n",
      "         0.0       0.96      0.66      0.78      1691\n",
      "         1.0       0.30      0.83      0.44       295\n",
      "\n",
      "    accuracy                           0.69      1986\n",
      "   macro avg       0.63      0.74      0.61      1986\n",
      "weighted avg       0.86      0.69      0.73      1986\n",
      "\n",
      "Processing threat ...\n",
      "Test accuracy is 0.9964753272910373\n",
      "              precision    recall  f1-score   support\n",
      "\n",
      "         0.0       1.00      0.59      0.74      1980\n",
      "         1.0       0.00      0.67      0.01         6\n",
      "\n",
      "    accuracy                           0.59      1986\n",
      "   macro avg       0.50      0.63      0.38      1986\n",
      "weighted avg       1.00      0.59      0.74      1986\n",
      "\n",
      "Processing insult ...\n",
      "Test accuracy is 0.8987915407854985\n",
      "              precision    recall  f1-score   support\n",
      "\n",
      "         0.0       0.94      0.71      0.81      1546\n",
      "         1.0       0.46      0.85      0.59       440\n",
      "\n",
      "    accuracy                           0.74      1986\n",
      "   macro avg       0.70      0.78      0.70      1986\n",
      "weighted avg       0.83      0.74      0.76      1986\n",
      "\n",
      "Processing identity_attack ...\n",
      "Test accuracy is 0.7930513595166163\n",
      "              precision    recall  f1-score   support\n",
      "\n",
      "         0.0       0.79      0.85      0.82      1091\n",
      "         1.0       0.80      0.73      0.76       895\n",
      "\n",
      "    accuracy                           0.79      1986\n",
      "   macro avg       0.79      0.79      0.79      1986\n",
      "weighted avg       0.79      0.79      0.79      1986\n",
      "\n"
     ]
    }
   ],
   "source": [
    "SVC_pipeline = Pipeline([\n",
    "                ('tfidf', TfidfVectorizer(stop_words=stop_words)),\n",
    "                ('clf', OneVsRestClassifier(LinearSVC(), n_jobs=1)),\n",
    "            ])\n",
    "\n",
    "for category in categories:\n",
    "    print('Processing {} ...'.format(category))\n",
    "    SVC_pipeline.fit(X_train, train_df[category])\n",
    "    \n",
    "    # compute the testing accuracy\n",
    "    svm_preds = SVC_pipeline.predict(X_test)\n",
    "    #\n",
    "    print('Test accuracy is {}'.format(accuracy_score(test_df[category], svm_preds)))\n",
    "    \n",
    "    # Print the classification report of the rf model\n",
    "    print(classification_report(y_true = test_df[category], y_pred = lgr_preds))\n"
   ]
  },
  {
   "cell_type": "code",
   "execution_count": null,
   "metadata": {},
   "outputs": [],
   "source": []
  }
 ],
 "metadata": {
  "kernelspec": {
   "display_name": "Python 3",
   "language": "python",
   "name": "python3"
  },
  "language_info": {
   "codemirror_mode": {
    "name": "ipython",
    "version": 3
   },
   "file_extension": ".py",
   "mimetype": "text/x-python",
   "name": "python",
   "nbconvert_exporter": "python",
   "pygments_lexer": "ipython3",
   "version": "3.7.4"
  }
 },
 "nbformat": 4,
 "nbformat_minor": 2
}
