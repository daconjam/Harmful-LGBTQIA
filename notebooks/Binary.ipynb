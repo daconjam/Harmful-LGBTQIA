{
 "cells": [
  {
   "cell_type": "markdown",
   "metadata": {},
   "source": [
    "# Predictive Modeling - Binary Classification\n",
    "\n",
    "<i>Author: Jamell Dacon</i>\n",
    "    \n",
    "There are several supervised models used such as Gradient Boosting (GB), Random Forest (RF), Multi-Layer Perceptron (MLP), Logistic Regression (LGR) and Decision Trees (DT)."
   ]
  },
  {
   "cell_type": "code",
   "execution_count": 1,
   "metadata": {},
   "outputs": [],
   "source": [
    "# Load in models and packages necessary for datasets\n",
    "# Importing individual libraries make it easy for us to use them without having to call the parent libraries\n",
    "import math\n",
    "import numpy as np\n",
    "import pandas as pd\n",
    "\n",
    "from sklearn.pipeline import Pipeline\n",
    "from sklearn.ensemble import RandomForestClassifier, GradientBoostingClassifier\n",
    "from sklearn.metrics import classification_report, accuracy_score, confusion_matrix\n",
    "from sklearn.neural_network import MLPClassifier\n",
    "from sklearn.linear_model import LogisticRegression \n",
    "from sklearn.tree import DecisionTreeClassifier\n",
    "from sklearn.svm import LinearSVC\n",
    "from sklearn.discriminant_analysis import LinearDiscriminantAnalysis\n",
    "from sklearn.naive_bayes import GaussianNB\n",
    "from sklearn.feature_extraction.text import TfidfVectorizer\n",
    "\n",
    "# Visualization libraries\n",
    "import seaborn as sns \n",
    "import matplotlib.pyplot as plt\n",
    "%matplotlib inline\n",
    "\n",
    "# Managing Warnings i.e. Deprecation warnings\n",
    "import warnings\n",
    "warnings.filterwarnings('ignore')"
   ]
  },
  {
   "cell_type": "markdown",
   "metadata": {},
   "source": [
    "## Binary\n",
    "\n",
    "### Training Set"
   ]
  },
  {
   "cell_type": "code",
   "execution_count": 2,
   "metadata": {},
   "outputs": [
    {
     "data": {
      "text/plain": [
       "(7944, 2)"
      ]
     },
     "execution_count": 2,
     "metadata": {},
     "output_type": "execute_result"
    }
   ],
   "source": [
    "train = pd.read_json(\"data/toxic_train.json\")\n",
    "train.shape"
   ]
  },
  {
   "cell_type": "code",
   "execution_count": 3,
   "metadata": {},
   "outputs": [
    {
     "data": {
      "text/plain": [
       "1    5967\n",
       "0    1977\n",
       "Name: label, dtype: int64"
      ]
     },
     "execution_count": 3,
     "metadata": {},
     "output_type": "execute_result"
    }
   ],
   "source": [
    "train_label = train['label'].value_counts()\n",
    "train_label"
   ]
  },
  {
   "cell_type": "markdown",
   "metadata": {},
   "source": [
    "### Testing Set"
   ]
  },
  {
   "cell_type": "code",
   "execution_count": 4,
   "metadata": {},
   "outputs": [
    {
     "data": {
      "text/plain": [
       "(1986, 2)"
      ]
     },
     "execution_count": 4,
     "metadata": {},
     "output_type": "execute_result"
    }
   ],
   "source": [
    "test = pd.read_json(\"data/toxic_test.json\")\n",
    "test.shape"
   ]
  },
  {
   "cell_type": "code",
   "execution_count": 5,
   "metadata": {},
   "outputs": [
    {
     "data": {
      "text/plain": [
       "1    1492\n",
       "0     494\n",
       "Name: label, dtype: int64"
      ]
     },
     "execution_count": 5,
     "metadata": {},
     "output_type": "execute_result"
    }
   ],
   "source": [
    "test_label = test['label'].value_counts()\n",
    "test_label"
   ]
  },
  {
   "cell_type": "markdown",
   "metadata": {},
   "source": [
    "### Train/ Test Splits "
   ]
  },
  {
   "cell_type": "code",
   "execution_count": 6,
   "metadata": {},
   "outputs": [],
   "source": [
    "# Training set \n",
    "X_train = train['text']\n",
    "y_train = train['label']\n",
    "\n",
    "# Test set \n",
    "X_test = test['text']\n",
    "y_test = test['label']"
   ]
  },
  {
   "cell_type": "markdown",
   "metadata": {},
   "source": [
    "### Decision Tree"
   ]
  },
  {
   "cell_type": "code",
   "execution_count": 7,
   "metadata": {},
   "outputs": [
    {
     "name": "stdout",
     "output_type": "stream",
     "text": [
      "              precision    recall  f1-score   support\n",
      "\n",
      "           0       0.47      0.45      0.46       494\n",
      "           1       0.82      0.83      0.82      1492\n",
      "\n",
      "    accuracy                           0.74      1986\n",
      "   macro avg       0.64      0.64      0.64      1986\n",
      "weighted avg       0.73      0.74      0.73      1986\n",
      "\n",
      "\n",
      "Confusion Matrix:\n",
      " [[ 224  270]\n",
      " [ 255 1237]]\n"
     ]
    }
   ],
   "source": [
    "dt = Pipeline([('tfidf', TfidfVectorizer()),('clf', DecisionTreeClassifier(random_state = 42))]) \n",
    "dt_model = dt.fit(X_train, y_train)\n",
    "\n",
    "# Model Prediction \n",
    "dt_preds = dt_model.predict(X_test)\n",
    "\n",
    "# Print the classification report of the rf model\n",
    "print(classification_report(y_true = y_test, y_pred = dt_preds))\n",
    "\n",
    "#Print the confusion matrix of the rf model\n",
    "print('\\nConfusion Matrix:\\n', confusion_matrix(y_test,dt_preds))"
   ]
  },
  {
   "cell_type": "markdown",
   "metadata": {},
   "source": [
    "### Random Forest Classifier model"
   ]
  },
  {
   "cell_type": "code",
   "execution_count": 8,
   "metadata": {},
   "outputs": [
    {
     "name": "stdout",
     "output_type": "stream",
     "text": [
      "              precision    recall  f1-score   support\n",
      "\n",
      "           0       0.61      0.36      0.45       494\n",
      "           1       0.81      0.92      0.87      1492\n",
      "\n",
      "    accuracy                           0.78      1986\n",
      "   macro avg       0.71      0.64      0.66      1986\n",
      "weighted avg       0.76      0.78      0.76      1986\n",
      "\n",
      "\n",
      "Confusion Matrix:\n",
      " [[ 176  318]\n",
      " [ 112 1380]]\n"
     ]
    }
   ],
   "source": [
    "rf = Pipeline([('tfidf', TfidfVectorizer()),('clf', RandomForestClassifier(random_state = 42))]) \n",
    "rf_model = rf.fit(X_train, y_train)\n",
    "\n",
    "# Model Prediction \n",
    "rf_preds = rf_model.predict(X_test)\n",
    "\n",
    "# Print the classification report of the rf model\n",
    "print(classification_report(y_true = y_test, y_pred = rf_preds))\n",
    "\n",
    "#Print the confusion matrix of the rf model\n",
    "print('\\nConfusion Matrix:\\n', confusion_matrix(y_test,rf_preds))"
   ]
  },
  {
   "cell_type": "markdown",
   "metadata": {},
   "source": [
    "### Gradient Boosting Classifier model"
   ]
  },
  {
   "cell_type": "code",
   "execution_count": 9,
   "metadata": {},
   "outputs": [
    {
     "name": "stdout",
     "output_type": "stream",
     "text": [
      "              precision    recall  f1-score   support\n",
      "\n",
      "           0       0.75      0.31      0.44       494\n",
      "           1       0.81      0.97      0.88      1492\n",
      "\n",
      "    accuracy                           0.80      1986\n",
      "   macro avg       0.78      0.64      0.66      1986\n",
      "weighted avg       0.80      0.80      0.77      1986\n",
      "\n",
      "\n",
      "Confusion Matrix:\n",
      " [[ 155  339]\n",
      " [  51 1441]]\n"
     ]
    }
   ],
   "source": [
    "gb = Pipeline([('tfidf', TfidfVectorizer()),('clf', GradientBoostingClassifier(random_state = 42))])\n",
    "gb_model = gb.fit(X_train, y_train)\n",
    "\n",
    "# Model Prediction \n",
    "gb_preds = gb_model.predict(X_test)\n",
    "\n",
    "# Print the classification report of the rf model\n",
    "print(classification_report(y_true = y_test, y_pred = gb_preds))\n",
    "\n",
    "#Print the confusion matrix of the rf model\n",
    "print('\\nConfusion Matrix:\\n', confusion_matrix(y_test,gb_preds))"
   ]
  },
  {
   "cell_type": "markdown",
   "metadata": {},
   "source": [
    "### MLP Classifier model"
   ]
  },
  {
   "cell_type": "code",
   "execution_count": 10,
   "metadata": {},
   "outputs": [
    {
     "name": "stdout",
     "output_type": "stream",
     "text": [
      "              precision    recall  f1-score   support\n",
      "\n",
      "           0       0.63      0.59      0.61       494\n",
      "           1       0.87      0.89      0.88      1492\n",
      "\n",
      "    accuracy                           0.81      1986\n",
      "   macro avg       0.75      0.74      0.75      1986\n",
      "weighted avg       0.81      0.81      0.81      1986\n",
      "\n",
      "\n",
      "Confusion Matrix:\n",
      " [[ 293  201]\n",
      " [ 169 1323]]\n"
     ]
    }
   ],
   "source": [
    "mlp = Pipeline([('tfidf', TfidfVectorizer()),('clf',MLPClassifier(hidden_layer_sizes = (15,15,15), max_iter = 1000))])\n",
    "mlp.fit(X_train,y_train)\n",
    "\n",
    "# Model Prediction \n",
    "mlp_preds = mlp.predict(X_test)\n",
    "\n",
    "# Print the classification report of the rf model\n",
    "print(classification_report(y_true = y_test, y_pred = mlp_preds))\n",
    "\n",
    "# Print the confusion matrix of the rf model\n",
    "print('\\nConfusion Matrix:\\n', confusion_matrix(y_test,mlp_preds))"
   ]
  },
  {
   "cell_type": "markdown",
   "metadata": {},
   "source": [
    "### Logistic Regression model"
   ]
  },
  {
   "cell_type": "code",
   "execution_count": 11,
   "metadata": {},
   "outputs": [
    {
     "name": "stdout",
     "output_type": "stream",
     "text": [
      "              precision    recall  f1-score   support\n",
      "\n",
      "           0       0.82      0.49      0.61       494\n",
      "           1       0.85      0.97      0.90      1492\n",
      "\n",
      "    accuracy                           0.85      1986\n",
      "   macro avg       0.84      0.73      0.76      1986\n",
      "weighted avg       0.84      0.85      0.83      1986\n",
      "\n",
      "\n",
      "Confusion Matrix:\n",
      " [[ 240  254]\n",
      " [  52 1440]]\n"
     ]
    }
   ],
   "source": [
    "lgr = Pipeline([('tfidf', TfidfVectorizer()),('clf', LogisticRegression(random_state = 42))])\n",
    "lgr_model = lgr.fit(X_train, y_train)\n",
    "\n",
    "# Model Prediction \n",
    "lgr_preds = lgr.predict(X_test)\n",
    "\n",
    "# Print the classification report of the rf model\n",
    "print(classification_report(y_true = y_test, y_pred = lgr_preds))\n",
    "\n",
    "# Print the confusion matrix of the rf model\n",
    "print('\\nConfusion Matrix:\\n', confusion_matrix(y_test,lgr_preds))"
   ]
  },
  {
   "cell_type": "markdown",
   "metadata": {},
   "source": [
    "### Support Vector Machine"
   ]
  },
  {
   "cell_type": "code",
   "execution_count": 12,
   "metadata": {},
   "outputs": [
    {
     "name": "stdout",
     "output_type": "stream",
     "text": [
      "              precision    recall  f1-score   support\n",
      "\n",
      "           0       0.74      0.61      0.67       494\n",
      "           1       0.88      0.93      0.90      1492\n",
      "\n",
      "    accuracy                           0.85      1986\n",
      "   macro avg       0.81      0.77      0.79      1986\n",
      "weighted avg       0.84      0.85      0.84      1986\n",
      "\n",
      "\n",
      "Confusion Matrix:\n",
      " [[ 303  191]\n",
      " [ 109 1383]]\n"
     ]
    }
   ],
   "source": [
    "svm = Pipeline([('tfidf', TfidfVectorizer()),('clf', LinearSVC(random_state = 42))])\n",
    "svm_model = svm.fit(X_train, y_train)\n",
    "\n",
    "# Model Prediction \n",
    "svm_preds = svm.predict(X_test)\n",
    "\n",
    "# Print the classification report of the rf model\n",
    "print(classification_report(y_true = y_test, y_pred = svm_preds))\n",
    "\n",
    "# Print the confusion matrix of the rf model\n",
    "print('\\nConfusion Matrix:\\n', confusion_matrix(y_test,svm_preds))"
   ]
  },
  {
   "cell_type": "code",
   "execution_count": null,
   "metadata": {},
   "outputs": [],
   "source": []
  }
 ],
 "metadata": {
  "kernelspec": {
   "display_name": "Python 3",
   "language": "python",
   "name": "python3"
  },
  "language_info": {
   "codemirror_mode": {
    "name": "ipython",
    "version": 3
   },
   "file_extension": ".py",
   "mimetype": "text/x-python",
   "name": "python",
   "nbconvert_exporter": "python",
   "pygments_lexer": "ipython3",
   "version": "3.7.4"
  }
 },
 "nbformat": 4,
 "nbformat_minor": 2
}
